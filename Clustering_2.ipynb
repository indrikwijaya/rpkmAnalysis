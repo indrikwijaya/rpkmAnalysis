{
 "cells": [
  {
   "cell_type": "code",
   "execution_count": 1,
   "metadata": {
    "collapsed": true
   },
   "outputs": [],
   "source": [
    "import os \n",
    "import math\n",
    "import numpy as np\n",
    "import pandas as pd\n",
    "import matplotlib\n",
    "import matplotlib.pyplot as plt\n",
    "import seaborn as sns\n",
    "from matplotlib.pyplot import cm \n",
    "\n"
   ]
  },
  {
   "cell_type": "code",
   "execution_count": 2,
   "metadata": {
    "collapsed": true
   },
   "outputs": [],
   "source": [
    "rpkm_dir = '/Users/indrikwijaya/Desktop/fyp/rpkmCombined/'\n",
    "\n",
    "rpkm_files = list(filter(lambda x: x.split('.')[-1] == 'csv', os.listdir(rpkm_dir)))\n",
    "rpkm_files_path = list(map(lambda x: rpkm_dir+x, rpkm_files))\n",
    "rpkm_files_dict = {x.split(\"_\")[2][:6]:x for x in rpkm_files_path}"
   ]
  },
  {
   "cell_type": "code",
   "execution_count": 3,
   "metadata": {},
   "outputs": [
    {
     "data": {
      "text/plain": [
       "{'CGATGT': '/Users/indrikwijaya/Desktop/fyp/rpkmCombined/geneTXCD_RPKMoutput_CGATGT_combined.csv',\n",
       " 'GCCAAT': '/Users/indrikwijaya/Desktop/fyp/rpkmCombined/geneTXCD_RPKMoutput_GCCAAT-s_4_1_seed29_combined.csv',\n",
       " 'TAGCTT': '/Users/indrikwijaya/Desktop/fyp/rpkmCombined/geneTXCD_RPKMoutput_TAGCTT_combined.csv',\n",
       " 'TGACCA': '/Users/indrikwijaya/Desktop/fyp/rpkmCombined/geneTXCD_RPKMoutput_TGACCA-s_4_1_seed29_combined.csv'}"
      ]
     },
     "execution_count": 3,
     "metadata": {},
     "output_type": "execute_result"
    }
   ],
   "source": [
    "rpkm_files_dict"
   ]
  },
  {
   "cell_type": "code",
   "execution_count": 4,
   "metadata": {
    "collapsed": true
   },
   "outputs": [],
   "source": [
    "t4_tot_rna = pd.read_csv(rpkm_files_dict['TAGCTT'], sep = '\\t', lineterminator='\\n')\n",
    "t4_tot_rpf = pd.read_csv(rpkm_files_dict['CGATGT'], sep = '\\t', lineterminator='\\n')\n",
    "t6_tot_rna = pd.read_csv(rpkm_files_dict['TGACCA'], sep = '\\t', lineterminator='\\n')\n",
    "t6_tot_rpf = pd.read_csv(rpkm_files_dict['GCCAAT'], sep = '\\t', lineterminator='\\n')\n",
    "\n",
    "\n",
    "                    "
   ]
  },
  {
   "cell_type": "code",
   "execution_count": 5,
   "metadata": {
    "collapsed": true
   },
   "outputs": [],
   "source": [
    "t4_tot_rna_rpkm = t4_tot_rna[['AccNum', 'txRPKM']]\n",
    "t4_tot_rpf_rpkm = t4_tot_rpf[['AccNum', 'cdRPKM']]\n",
    "t6_tot_rna_rpkm = t6_tot_rna[['AccNum', 'txRPKM']]\n",
    "t6_tot_rpf_rpkm = t6_tot_rpf[['AccNum', 'cdRPKM']]"
   ]
  },
  {
   "cell_type": "code",
   "execution_count": 6,
   "metadata": {
    "collapsed": true
   },
   "outputs": [],
   "source": [
    "#merge RNA & RPF\n",
    "t4_tot_rpkm = pd.merge(t4_tot_rna_rpkm, t4_tot_rpf_rpkm, how ='inner', on ='AccNum')\n",
    "t6_tot_rpkm = pd.merge(t6_tot_rna_rpkm, t6_tot_rpf_rpkm, how ='inner', on = 'AccNum')"
   ]
  },
  {
   "cell_type": "code",
   "execution_count": 7,
   "metadata": {
    "collapsed": true
   },
   "outputs": [],
   "source": [
    "#Remove rows with '-'\n",
    "t4_tot_rpkm = t4_tot_rpkm[t4_tot_rpkm.txRPKM != '-']\n",
    "t4_tot_rpkm = t4_tot_rpkm[t4_tot_rpkm.cdRPKM != '-']\n",
    "t6_tot_rpkm = t6_tot_rpkm[t6_tot_rpkm.txRPKM != '-']\n",
    "t6_tot_rpkm = t6_tot_rpkm[t6_tot_rpkm.cdRPKM != '-']"
   ]
  },
  {
   "cell_type": "code",
   "execution_count": 8,
   "metadata": {
    "collapsed": true
   },
   "outputs": [],
   "source": [
    "#Convert to log-2 fold change\n",
    "def change_to_numeric(x):\n",
    "    return math.log2(float(x))\n",
    "\n",
    "\n",
    "t4_tot_rpkm['txRPKM'] = t4_tot_rpkm.apply(lambda x: change_to_numeric(x['txRPKM']), axis = 1)\n",
    "t4_tot_rpkm['cdRPKM'] = t4_tot_rpkm.apply(lambda x: change_to_numeric(x['cdRPKM']), axis = 1)\n",
    "\n",
    "t6_tot_rpkm['txRPKM'] = t6_tot_rpkm.apply(lambda x: change_to_numeric(x['txRPKM']), axis = 1)\n",
    "t6_tot_rpkm['cdRPKM'] = t6_tot_rpkm.apply(lambda x: change_to_numeric(x['cdRPKM']), axis = 1)"
   ]
  },
  {
   "cell_type": "markdown",
   "metadata": {},
   "source": [
    "# Calculate TE"
   ]
  },
  {
   "cell_type": "code",
   "execution_count": 9,
   "metadata": {
    "collapsed": true
   },
   "outputs": [],
   "source": [
    "#Calculate TE\n",
    "\n",
    "t4_tot_rpkm['TE'] = t4_tot_rpkm['cdRPKM']/t4_tot_rpkm['txRPKM']\n",
    "\n",
    "t6_tot_rpkm['TE'] = t6_tot_rpkm['cdRPKM']/t6_tot_rpkm['txRPKM']"
   ]
  },
  {
   "cell_type": "code",
   "execution_count": 10,
   "metadata": {},
   "outputs": [
    {
     "data": {
      "text/html": [
       "<div>\n",
       "<style>\n",
       "    .dataframe thead tr:only-child th {\n",
       "        text-align: right;\n",
       "    }\n",
       "\n",
       "    .dataframe thead th {\n",
       "        text-align: left;\n",
       "    }\n",
       "\n",
       "    .dataframe tbody tr th {\n",
       "        vertical-align: top;\n",
       "    }\n",
       "</style>\n",
       "<table border=\"1\" class=\"dataframe\">\n",
       "  <thead>\n",
       "    <tr style=\"text-align: right;\">\n",
       "      <th></th>\n",
       "      <th>txRPKM</th>\n",
       "      <th>cdRPKM</th>\n",
       "      <th>TE</th>\n",
       "    </tr>\n",
       "  </thead>\n",
       "  <tbody>\n",
       "    <tr>\n",
       "      <th>count</th>\n",
       "      <td>11330.000000</td>\n",
       "      <td>11330.000000</td>\n",
       "      <td>11330.000000</td>\n",
       "    </tr>\n",
       "    <tr>\n",
       "      <th>mean</th>\n",
       "      <td>2.988834</td>\n",
       "      <td>3.553711</td>\n",
       "      <td>1.561442</td>\n",
       "    </tr>\n",
       "    <tr>\n",
       "      <th>std</th>\n",
       "      <td>2.462440</td>\n",
       "      <td>2.783843</td>\n",
       "      <td>39.380556</td>\n",
       "    </tr>\n",
       "    <tr>\n",
       "      <th>min</th>\n",
       "      <td>-5.156902</td>\n",
       "      <td>-6.865154</td>\n",
       "      <td>-1158.144520</td>\n",
       "    </tr>\n",
       "    <tr>\n",
       "      <th>25%</th>\n",
       "      <td>1.580571</td>\n",
       "      <td>2.011309</td>\n",
       "      <td>0.914324</td>\n",
       "    </tr>\n",
       "    <tr>\n",
       "      <th>50%</th>\n",
       "      <td>3.233535</td>\n",
       "      <td>3.816958</td>\n",
       "      <td>1.148722</td>\n",
       "    </tr>\n",
       "    <tr>\n",
       "      <th>75%</th>\n",
       "      <td>4.607025</td>\n",
       "      <td>5.349915</td>\n",
       "      <td>1.408824</td>\n",
       "    </tr>\n",
       "    <tr>\n",
       "      <th>max</th>\n",
       "      <td>13.344327</td>\n",
       "      <td>15.373132</td>\n",
       "      <td>3799.699072</td>\n",
       "    </tr>\n",
       "  </tbody>\n",
       "</table>\n",
       "</div>"
      ],
      "text/plain": [
       "             txRPKM        cdRPKM            TE\n",
       "count  11330.000000  11330.000000  11330.000000\n",
       "mean       2.988834      3.553711      1.561442\n",
       "std        2.462440      2.783843     39.380556\n",
       "min       -5.156902     -6.865154  -1158.144520\n",
       "25%        1.580571      2.011309      0.914324\n",
       "50%        3.233535      3.816958      1.148722\n",
       "75%        4.607025      5.349915      1.408824\n",
       "max       13.344327     15.373132   3799.699072"
      ]
     },
     "execution_count": 10,
     "metadata": {},
     "output_type": "execute_result"
    }
   ],
   "source": [
    "t4_tot_rpkm.describe()"
   ]
  },
  {
   "cell_type": "code",
   "execution_count": 11,
   "metadata": {},
   "outputs": [
    {
     "data": {
      "text/html": [
       "<div>\n",
       "<style>\n",
       "    .dataframe thead tr:only-child th {\n",
       "        text-align: right;\n",
       "    }\n",
       "\n",
       "    .dataframe thead th {\n",
       "        text-align: left;\n",
       "    }\n",
       "\n",
       "    .dataframe tbody tr th {\n",
       "        vertical-align: top;\n",
       "    }\n",
       "</style>\n",
       "<table border=\"1\" class=\"dataframe\">\n",
       "  <thead>\n",
       "    <tr style=\"text-align: right;\">\n",
       "      <th></th>\n",
       "      <th>txRPKM</th>\n",
       "      <th>cdRPKM</th>\n",
       "      <th>TE</th>\n",
       "    </tr>\n",
       "  </thead>\n",
       "  <tbody>\n",
       "    <tr>\n",
       "      <th>count</th>\n",
       "      <td>11171.000000</td>\n",
       "      <td>11171.000000</td>\n",
       "      <td>11171.000000</td>\n",
       "    </tr>\n",
       "    <tr>\n",
       "      <th>mean</th>\n",
       "      <td>2.995365</td>\n",
       "      <td>3.865802</td>\n",
       "      <td>0.994006</td>\n",
       "    </tr>\n",
       "    <tr>\n",
       "      <th>std</th>\n",
       "      <td>2.494160</td>\n",
       "      <td>2.506648</td>\n",
       "      <td>10.473596</td>\n",
       "    </tr>\n",
       "    <tr>\n",
       "      <th>min</th>\n",
       "      <td>-7.107400</td>\n",
       "      <td>-5.466047</td>\n",
       "      <td>-511.529155</td>\n",
       "    </tr>\n",
       "    <tr>\n",
       "      <th>25%</th>\n",
       "      <td>1.641604</td>\n",
       "      <td>2.421456</td>\n",
       "      <td>0.931066</td>\n",
       "    </tr>\n",
       "    <tr>\n",
       "      <th>50%</th>\n",
       "      <td>3.257651</td>\n",
       "      <td>4.040295</td>\n",
       "      <td>1.159701</td>\n",
       "    </tr>\n",
       "    <tr>\n",
       "      <th>75%</th>\n",
       "      <td>4.606836</td>\n",
       "      <td>5.469568</td>\n",
       "      <td>1.431380</td>\n",
       "    </tr>\n",
       "    <tr>\n",
       "      <th>max</th>\n",
       "      <td>12.669535</td>\n",
       "      <td>14.219819</td>\n",
       "      <td>426.543353</td>\n",
       "    </tr>\n",
       "  </tbody>\n",
       "</table>\n",
       "</div>"
      ],
      "text/plain": [
       "             txRPKM        cdRPKM            TE\n",
       "count  11171.000000  11171.000000  11171.000000\n",
       "mean       2.995365      3.865802      0.994006\n",
       "std        2.494160      2.506648     10.473596\n",
       "min       -7.107400     -5.466047   -511.529155\n",
       "25%        1.641604      2.421456      0.931066\n",
       "50%        3.257651      4.040295      1.159701\n",
       "75%        4.606836      5.469568      1.431380\n",
       "max       12.669535     14.219819    426.543353"
      ]
     },
     "execution_count": 11,
     "metadata": {},
     "output_type": "execute_result"
    }
   ],
   "source": [
    "t6_tot_rpkm.describe()"
   ]
  },
  {
   "cell_type": "code",
   "execution_count": 12,
   "metadata": {
    "collapsed": true
   },
   "outputs": [],
   "source": [
    "t4_t6 = pd.merge(t4_tot_rpkm, t6_tot_rpkm, how = 'inner', on = 'AccNum')"
   ]
  },
  {
   "cell_type": "code",
   "execution_count": 13,
   "metadata": {},
   "outputs": [
    {
     "data": {
      "text/html": [
       "<div>\n",
       "<style>\n",
       "    .dataframe thead tr:only-child th {\n",
       "        text-align: right;\n",
       "    }\n",
       "\n",
       "    .dataframe thead th {\n",
       "        text-align: left;\n",
       "    }\n",
       "\n",
       "    .dataframe tbody tr th {\n",
       "        vertical-align: top;\n",
       "    }\n",
       "</style>\n",
       "<table border=\"1\" class=\"dataframe\">\n",
       "  <thead>\n",
       "    <tr style=\"text-align: right;\">\n",
       "      <th></th>\n",
       "      <th>txRPKM_x</th>\n",
       "      <th>cdRPKM_x</th>\n",
       "      <th>TE_x</th>\n",
       "      <th>txRPKM_y</th>\n",
       "      <th>cdRPKM_y</th>\n",
       "      <th>TE_y</th>\n",
       "    </tr>\n",
       "  </thead>\n",
       "  <tbody>\n",
       "    <tr>\n",
       "      <th>count</th>\n",
       "      <td>10752.000000</td>\n",
       "      <td>10752.000000</td>\n",
       "      <td>10752.000000</td>\n",
       "      <td>10752.000000</td>\n",
       "      <td>10752.000000</td>\n",
       "      <td>10752.000000</td>\n",
       "    </tr>\n",
       "    <tr>\n",
       "      <th>mean</th>\n",
       "      <td>3.217997</td>\n",
       "      <td>3.832311</td>\n",
       "      <td>1.513555</td>\n",
       "      <td>3.192258</td>\n",
       "      <td>4.043388</td>\n",
       "      <td>1.030461</td>\n",
       "    </tr>\n",
       "    <tr>\n",
       "      <th>std</th>\n",
       "      <td>2.279801</td>\n",
       "      <td>2.544384</td>\n",
       "      <td>39.602296</td>\n",
       "      <td>2.303101</td>\n",
       "      <td>2.370434</td>\n",
       "      <td>10.651506</td>\n",
       "    </tr>\n",
       "    <tr>\n",
       "      <th>min</th>\n",
       "      <td>-5.156902</td>\n",
       "      <td>-6.222522</td>\n",
       "      <td>-1158.144520</td>\n",
       "      <td>-5.924932</td>\n",
       "      <td>-4.898667</td>\n",
       "      <td>-511.529155</td>\n",
       "    </tr>\n",
       "    <tr>\n",
       "      <th>25%</th>\n",
       "      <td>1.890976</td>\n",
       "      <td>2.342459</td>\n",
       "      <td>0.931996</td>\n",
       "      <td>1.869993</td>\n",
       "      <td>2.648140</td>\n",
       "      <td>0.958259</td>\n",
       "    </tr>\n",
       "    <tr>\n",
       "      <th>50%</th>\n",
       "      <td>3.355660</td>\n",
       "      <td>3.969026</td>\n",
       "      <td>1.151210</td>\n",
       "      <td>3.347552</td>\n",
       "      <td>4.134671</td>\n",
       "      <td>1.172768</td>\n",
       "    </tr>\n",
       "    <tr>\n",
       "      <th>75%</th>\n",
       "      <td>4.689775</td>\n",
       "      <td>5.462239</td>\n",
       "      <td>1.401315</td>\n",
       "      <td>4.665554</td>\n",
       "      <td>5.546579</td>\n",
       "      <td>1.442400</td>\n",
       "    </tr>\n",
       "    <tr>\n",
       "      <th>max</th>\n",
       "      <td>13.344327</td>\n",
       "      <td>15.373132</td>\n",
       "      <td>3799.699072</td>\n",
       "      <td>12.669535</td>\n",
       "      <td>14.219819</td>\n",
       "      <td>426.543353</td>\n",
       "    </tr>\n",
       "  </tbody>\n",
       "</table>\n",
       "</div>"
      ],
      "text/plain": [
       "           txRPKM_x      cdRPKM_x          TE_x      txRPKM_y      cdRPKM_y  \\\n",
       "count  10752.000000  10752.000000  10752.000000  10752.000000  10752.000000   \n",
       "mean       3.217997      3.832311      1.513555      3.192258      4.043388   \n",
       "std        2.279801      2.544384     39.602296      2.303101      2.370434   \n",
       "min       -5.156902     -6.222522  -1158.144520     -5.924932     -4.898667   \n",
       "25%        1.890976      2.342459      0.931996      1.869993      2.648140   \n",
       "50%        3.355660      3.969026      1.151210      3.347552      4.134671   \n",
       "75%        4.689775      5.462239      1.401315      4.665554      5.546579   \n",
       "max       13.344327     15.373132   3799.699072     12.669535     14.219819   \n",
       "\n",
       "               TE_y  \n",
       "count  10752.000000  \n",
       "mean       1.030461  \n",
       "std       10.651506  \n",
       "min     -511.529155  \n",
       "25%        0.958259  \n",
       "50%        1.172768  \n",
       "75%        1.442400  \n",
       "max      426.543353  "
      ]
     },
     "execution_count": 13,
     "metadata": {},
     "output_type": "execute_result"
    }
   ],
   "source": [
    "t4_t6.describe()"
   ]
  },
  {
   "cell_type": "code",
   "execution_count": 29,
   "metadata": {},
   "outputs": [
    {
     "data": {
      "text/html": [
       "<div>\n",
       "<style>\n",
       "    .dataframe thead tr:only-child th {\n",
       "        text-align: right;\n",
       "    }\n",
       "\n",
       "    .dataframe thead th {\n",
       "        text-align: left;\n",
       "    }\n",
       "\n",
       "    .dataframe tbody tr th {\n",
       "        vertical-align: top;\n",
       "    }\n",
       "</style>\n",
       "<table border=\"1\" class=\"dataframe\">\n",
       "  <thead>\n",
       "    <tr style=\"text-align: right;\">\n",
       "      <th></th>\n",
       "      <th>txRPKM_x</th>\n",
       "      <th>txRPKM_y</th>\n",
       "    </tr>\n",
       "  </thead>\n",
       "  <tbody>\n",
       "    <tr>\n",
       "      <th>count</th>\n",
       "      <td>10752.000000</td>\n",
       "      <td>10752.000000</td>\n",
       "    </tr>\n",
       "    <tr>\n",
       "      <th>mean</th>\n",
       "      <td>3.217997</td>\n",
       "      <td>3.192258</td>\n",
       "    </tr>\n",
       "    <tr>\n",
       "      <th>std</th>\n",
       "      <td>2.279801</td>\n",
       "      <td>2.303101</td>\n",
       "    </tr>\n",
       "    <tr>\n",
       "      <th>min</th>\n",
       "      <td>-5.156902</td>\n",
       "      <td>-5.924932</td>\n",
       "    </tr>\n",
       "    <tr>\n",
       "      <th>25%</th>\n",
       "      <td>1.890976</td>\n",
       "      <td>1.869993</td>\n",
       "    </tr>\n",
       "    <tr>\n",
       "      <th>50%</th>\n",
       "      <td>3.355660</td>\n",
       "      <td>3.347552</td>\n",
       "    </tr>\n",
       "    <tr>\n",
       "      <th>75%</th>\n",
       "      <td>4.689775</td>\n",
       "      <td>4.665554</td>\n",
       "    </tr>\n",
       "    <tr>\n",
       "      <th>max</th>\n",
       "      <td>13.344327</td>\n",
       "      <td>12.669535</td>\n",
       "    </tr>\n",
       "  </tbody>\n",
       "</table>\n",
       "</div>"
      ],
      "text/plain": [
       "           txRPKM_x      txRPKM_y\n",
       "count  10752.000000  10752.000000\n",
       "mean       3.217997      3.192258\n",
       "std        2.279801      2.303101\n",
       "min       -5.156902     -5.924932\n",
       "25%        1.890976      1.869993\n",
       "50%        3.355660      3.347552\n",
       "75%        4.689775      4.665554\n",
       "max       13.344327     12.669535"
      ]
     },
     "execution_count": 29,
     "metadata": {},
     "output_type": "execute_result"
    }
   ],
   "source": [
    "t4_t6_rna = t4_t6[['AccNum', 'txRPKM_x', 'txRPKM_y']]\n",
    "t4_t6_rna.describe()"
   ]
  },
  {
   "cell_type": "code",
   "execution_count": 31,
   "metadata": {},
   "outputs": [
    {
     "data": {
      "text/html": [
       "<div>\n",
       "<style>\n",
       "    .dataframe thead tr:only-child th {\n",
       "        text-align: right;\n",
       "    }\n",
       "\n",
       "    .dataframe thead th {\n",
       "        text-align: left;\n",
       "    }\n",
       "\n",
       "    .dataframe tbody tr th {\n",
       "        vertical-align: top;\n",
       "    }\n",
       "</style>\n",
       "<table border=\"1\" class=\"dataframe\">\n",
       "  <thead>\n",
       "    <tr style=\"text-align: right;\">\n",
       "      <th></th>\n",
       "      <th>cdRPKM_x</th>\n",
       "      <th>cdRPKM_y</th>\n",
       "    </tr>\n",
       "  </thead>\n",
       "  <tbody>\n",
       "    <tr>\n",
       "      <th>count</th>\n",
       "      <td>10752.000000</td>\n",
       "      <td>10752.000000</td>\n",
       "    </tr>\n",
       "    <tr>\n",
       "      <th>mean</th>\n",
       "      <td>3.832311</td>\n",
       "      <td>4.043388</td>\n",
       "    </tr>\n",
       "    <tr>\n",
       "      <th>std</th>\n",
       "      <td>2.544384</td>\n",
       "      <td>2.370434</td>\n",
       "    </tr>\n",
       "    <tr>\n",
       "      <th>min</th>\n",
       "      <td>-6.222522</td>\n",
       "      <td>-4.898667</td>\n",
       "    </tr>\n",
       "    <tr>\n",
       "      <th>25%</th>\n",
       "      <td>2.342459</td>\n",
       "      <td>2.648140</td>\n",
       "    </tr>\n",
       "    <tr>\n",
       "      <th>50%</th>\n",
       "      <td>3.969026</td>\n",
       "      <td>4.134671</td>\n",
       "    </tr>\n",
       "    <tr>\n",
       "      <th>75%</th>\n",
       "      <td>5.462239</td>\n",
       "      <td>5.546579</td>\n",
       "    </tr>\n",
       "    <tr>\n",
       "      <th>max</th>\n",
       "      <td>15.373132</td>\n",
       "      <td>14.219819</td>\n",
       "    </tr>\n",
       "  </tbody>\n",
       "</table>\n",
       "</div>"
      ],
      "text/plain": [
       "           cdRPKM_x      cdRPKM_y\n",
       "count  10752.000000  10752.000000\n",
       "mean       3.832311      4.043388\n",
       "std        2.544384      2.370434\n",
       "min       -6.222522     -4.898667\n",
       "25%        2.342459      2.648140\n",
       "50%        3.969026      4.134671\n",
       "75%        5.462239      5.546579\n",
       "max       15.373132     14.219819"
      ]
     },
     "execution_count": 31,
     "metadata": {},
     "output_type": "execute_result"
    }
   ],
   "source": [
    "t4_t6_rpf = t4_t6[['AccNum', 'cdRPKM_x', 'cdRPKM_y']]\n",
    "t4_t6_rpf.describe()"
   ]
  },
  {
   "cell_type": "code",
   "execution_count": 19,
   "metadata": {
    "collapsed": true
   },
   "outputs": [],
   "source": [
    "from bokeh.plotting import figure, show,output_notebook, output_file\n",
    "from bokeh.models import ColumnDataSource, LabelSet, Label, HoverTool\n",
    "\n",
    "N=4000\n",
    "\n",
    "radii = np.random.random(size=N) * 1.5\n",
    "x = np.random.random(size=N) * 100\n",
    "y = np.random.random(size=N) * 100\n",
    "\n",
    "colors = [\"#%02x%02x%02x\" % (int(r), int(g), 150) for r, g in zip(50+2*x, 30+2*y)]\n",
    "\n",
    "TOOLS=\"hover,crosshair,pan,wheel_zoom,box_zoom,reset,tap,save\"\n",
    "\n",
    "hover=HoverTool(tooltips = [\n",
    "        ('id', '@assension_id'),\n",
    "    ('(x,y)','(@x, @y)')\n",
    "])"
   ]
  },
  {
   "cell_type": "code",
   "execution_count": 35,
   "metadata": {
    "collapsed": true
   },
   "outputs": [],
   "source": [
    "def plot_bokeh(dataframe, label):\n",
    "    hover=HoverTool(tooltips = [\n",
    "        ('id', '@assension_id'),\n",
    "    ('(x,y)','(@x, @y)')\n",
    "    ])\n",
    "\n",
    "    data_source = ColumnDataSource(data = dict(assension_id = dataframe.iloc[:,0],\n",
    "                                          x = dataframe.iloc[:,1],\n",
    "                                         y = dataframe.iloc[:,2]\n",
    "                             ))\n",
    "\n",
    "    data_plot = figure(tools=[hover], title = label+' day 6 vs '+label+' day 4')\n",
    "\n",
    "    data_plot.scatter('x', 'y', source = data_source,fill_color = colors, fill_alpha = 0.6)\n",
    "    data_plot.xaxis[0].axis_label = label +' day 4'\n",
    "    data_plot.yaxis[0].axis_label = label+' day 6'\n",
    "    # labels = LabelSet(x = 'rna_read', y = 'rpf_read', text = 'assension_id', level = 'glyph',\n",
    "    #                  source = source, render_mode = 'canvas')\n",
    "    # p.add_layout(labels)\n",
    "\n",
    "    #output_file('RNA Total vs RPF Total')\n",
    "    show(data_plot)"
   ]
  },
  {
   "cell_type": "markdown",
   "metadata": {},
   "source": [
    "# RNA Plot"
   ]
  },
  {
   "cell_type": "code",
   "execution_count": 36,
   "metadata": {},
   "outputs": [
    {
     "name": "stderr",
     "output_type": "stream",
     "text": [
      "/Users/indrikwijaya/anaconda3/lib/python3.6/site-packages/bokeh/util/deprecation.py:34: BokehDeprecationWarning: \n",
      "Supplying a user-defined data source AND iterable values to glyph methods is deprecated.\n",
      "\n",
      "See https://github.com/bokeh/bokeh/issues/2056 for more information.\n",
      "\n",
      "  warn(message)\n",
      "/Users/indrikwijaya/anaconda3/lib/python3.6/site-packages/bokeh/models/sources.py:89: BokehUserWarning: ColumnDataSource's columns must be of the same length\n",
      "  lambda: warnings.warn(\"ColumnDataSource's columns must be of the same length\", BokehUserWarning))\n"
     ]
    }
   ],
   "source": [
    "plot_bokeh(t4_t6_rna, 'RNA')"
   ]
  },
  {
   "cell_type": "markdown",
   "metadata": {},
   "source": [
    "# RPF Plot"
   ]
  },
  {
   "cell_type": "code",
   "execution_count": 37,
   "metadata": {},
   "outputs": [
    {
     "name": "stderr",
     "output_type": "stream",
     "text": [
      "/Users/indrikwijaya/anaconda3/lib/python3.6/site-packages/bokeh/util/deprecation.py:34: BokehDeprecationWarning: \n",
      "Supplying a user-defined data source AND iterable values to glyph methods is deprecated.\n",
      "\n",
      "See https://github.com/bokeh/bokeh/issues/2056 for more information.\n",
      "\n",
      "  warn(message)\n",
      "/Users/indrikwijaya/anaconda3/lib/python3.6/site-packages/bokeh/models/sources.py:89: BokehUserWarning: ColumnDataSource's columns must be of the same length\n",
      "  lambda: warnings.warn(\"ColumnDataSource's columns must be of the same length\", BokehUserWarning))\n"
     ]
    }
   ],
   "source": [
    "plot_bokeh(t4_t6_rpf, 'RPF')"
   ]
  },
  {
   "cell_type": "markdown",
   "metadata": {},
   "source": [
    "# TE Plot"
   ]
  },
  {
   "cell_type": "code",
   "execution_count": 14,
   "metadata": {},
   "outputs": [
    {
     "data": {
      "text/html": [
       "<div>\n",
       "<style>\n",
       "    .dataframe thead tr:only-child th {\n",
       "        text-align: right;\n",
       "    }\n",
       "\n",
       "    .dataframe thead th {\n",
       "        text-align: left;\n",
       "    }\n",
       "\n",
       "    .dataframe tbody tr th {\n",
       "        vertical-align: top;\n",
       "    }\n",
       "</style>\n",
       "<table border=\"1\" class=\"dataframe\">\n",
       "  <thead>\n",
       "    <tr style=\"text-align: right;\">\n",
       "      <th></th>\n",
       "      <th>TE_x</th>\n",
       "      <th>TE_y</th>\n",
       "    </tr>\n",
       "  </thead>\n",
       "  <tbody>\n",
       "    <tr>\n",
       "      <th>count</th>\n",
       "      <td>10752.000000</td>\n",
       "      <td>10752.000000</td>\n",
       "    </tr>\n",
       "    <tr>\n",
       "      <th>mean</th>\n",
       "      <td>1.513555</td>\n",
       "      <td>1.030461</td>\n",
       "    </tr>\n",
       "    <tr>\n",
       "      <th>std</th>\n",
       "      <td>39.602296</td>\n",
       "      <td>10.651506</td>\n",
       "    </tr>\n",
       "    <tr>\n",
       "      <th>min</th>\n",
       "      <td>-1158.144520</td>\n",
       "      <td>-511.529155</td>\n",
       "    </tr>\n",
       "    <tr>\n",
       "      <th>25%</th>\n",
       "      <td>0.931996</td>\n",
       "      <td>0.958259</td>\n",
       "    </tr>\n",
       "    <tr>\n",
       "      <th>50%</th>\n",
       "      <td>1.151210</td>\n",
       "      <td>1.172768</td>\n",
       "    </tr>\n",
       "    <tr>\n",
       "      <th>75%</th>\n",
       "      <td>1.401315</td>\n",
       "      <td>1.442400</td>\n",
       "    </tr>\n",
       "    <tr>\n",
       "      <th>max</th>\n",
       "      <td>3799.699072</td>\n",
       "      <td>426.543353</td>\n",
       "    </tr>\n",
       "  </tbody>\n",
       "</table>\n",
       "</div>"
      ],
      "text/plain": [
       "               TE_x          TE_y\n",
       "count  10752.000000  10752.000000\n",
       "mean       1.513555      1.030461\n",
       "std       39.602296     10.651506\n",
       "min    -1158.144520   -511.529155\n",
       "25%        0.931996      0.958259\n",
       "50%        1.151210      1.172768\n",
       "75%        1.401315      1.442400\n",
       "max     3799.699072    426.543353"
      ]
     },
     "execution_count": 14,
     "metadata": {},
     "output_type": "execute_result"
    }
   ],
   "source": [
    "t4_t6_te = t4_t6[['AccNum', 'TE_x', 'TE_y']]\n",
    "t4_t6_te.describe()\n"
   ]
  },
  {
   "cell_type": "code",
   "execution_count": 16,
   "metadata": {},
   "outputs": [],
   "source": [
    "t4_t6_te_excel = pd.ExcelWriter('t4_t6_te.xlsx', engine = 'xlsxwriter')\n",
    "t4_t6_te.to_excel(t4_t6_te_excel, index = False, sheet_name = 't4_t6_te')\n",
    "t4_t6_te_excel.save()\n"
   ]
  },
  {
   "cell_type": "code",
   "execution_count": 41,
   "metadata": {},
   "outputs": [
    {
     "data": {
      "text/html": [
       "<div>\n",
       "<style>\n",
       "    .dataframe thead tr:only-child th {\n",
       "        text-align: right;\n",
       "    }\n",
       "\n",
       "    .dataframe thead th {\n",
       "        text-align: left;\n",
       "    }\n",
       "\n",
       "    .dataframe tbody tr th {\n",
       "        vertical-align: top;\n",
       "    }\n",
       "</style>\n",
       "<table border=\"1\" class=\"dataframe\">\n",
       "  <thead>\n",
       "    <tr style=\"text-align: right;\">\n",
       "      <th></th>\n",
       "      <th>TE_x</th>\n",
       "      <th>TE_y</th>\n",
       "    </tr>\n",
       "  </thead>\n",
       "  <tbody>\n",
       "    <tr>\n",
       "      <th>count</th>\n",
       "      <td>9037.000000</td>\n",
       "      <td>9037.000000</td>\n",
       "    </tr>\n",
       "    <tr>\n",
       "      <th>mean</th>\n",
       "      <td>1.190944</td>\n",
       "      <td>1.240766</td>\n",
       "    </tr>\n",
       "    <tr>\n",
       "      <th>std</th>\n",
       "      <td>0.407327</td>\n",
       "      <td>0.429396</td>\n",
       "    </tr>\n",
       "    <tr>\n",
       "      <th>min</th>\n",
       "      <td>0.000778</td>\n",
       "      <td>0.005483</td>\n",
       "    </tr>\n",
       "    <tr>\n",
       "      <th>25%</th>\n",
       "      <td>0.981657</td>\n",
       "      <td>1.006390</td>\n",
       "    </tr>\n",
       "    <tr>\n",
       "      <th>50%</th>\n",
       "      <td>1.152649</td>\n",
       "      <td>1.181022</td>\n",
       "    </tr>\n",
       "    <tr>\n",
       "      <th>75%</th>\n",
       "      <td>1.358071</td>\n",
       "      <td>1.402893</td>\n",
       "    </tr>\n",
       "    <tr>\n",
       "      <th>max</th>\n",
       "      <td>2.995349</td>\n",
       "      <td>2.994171</td>\n",
       "    </tr>\n",
       "  </tbody>\n",
       "</table>\n",
       "</div>"
      ],
      "text/plain": [
       "              TE_x         TE_y\n",
       "count  9037.000000  9037.000000\n",
       "mean      1.190944     1.240766\n",
       "std       0.407327     0.429396\n",
       "min       0.000778     0.005483\n",
       "25%       0.981657     1.006390\n",
       "50%       1.152649     1.181022\n",
       "75%       1.358071     1.402893\n",
       "max       2.995349     2.994171"
      ]
     },
     "execution_count": 41,
     "metadata": {},
     "output_type": "execute_result"
    }
   ],
   "source": [
    "t4_t6_te_filter = t4_t6_te[t4_t6_te['TE_x']<3]\n",
    "t4_t6_te_filter = t4_t6_te_filter[t4_t6_te_filter['TE_x']>0]\n",
    "t4_t6_te_filter = t4_t6_te_filter[t4_t6_te_filter['TE_y']<3]\n",
    "t4_t6_te_filter = t4_t6_te_filter[t4_t6_te_filter['TE_y']>0]\n",
    "t4_t6_te_filter.describe()"
   ]
  },
  {
   "cell_type": "code",
   "execution_count": 42,
   "metadata": {},
   "outputs": [
    {
     "name": "stderr",
     "output_type": "stream",
     "text": [
      "/Users/indrikwijaya/anaconda3/lib/python3.6/site-packages/bokeh/util/deprecation.py:34: BokehDeprecationWarning: \n",
      "Supplying a user-defined data source AND iterable values to glyph methods is deprecated.\n",
      "\n",
      "See https://github.com/bokeh/bokeh/issues/2056 for more information.\n",
      "\n",
      "  warn(message)\n",
      "/Users/indrikwijaya/anaconda3/lib/python3.6/site-packages/bokeh/models/sources.py:89: BokehUserWarning: ColumnDataSource's columns must be of the same length\n",
      "  lambda: warnings.warn(\"ColumnDataSource's columns must be of the same length\", BokehUserWarning))\n",
      "/Users/indrikwijaya/anaconda3/lib/python3.6/site-packages/bokeh/util/deprecation.py:34: BokehDeprecationWarning: \n",
      "Supplying a user-defined data source AND iterable values to glyph methods is deprecated.\n",
      "\n",
      "See https://github.com/bokeh/bokeh/issues/2056 for more information.\n",
      "\n",
      "  warn(message)\n",
      "/Users/indrikwijaya/anaconda3/lib/python3.6/site-packages/bokeh/models/sources.py:89: BokehUserWarning: ColumnDataSource's columns must be of the same length\n",
      "  lambda: warnings.warn(\"ColumnDataSource's columns must be of the same length\", BokehUserWarning))\n"
     ]
    }
   ],
   "source": [
    "plot_bokeh(t4_t6_te, 'TE')\n",
    "plot_bokeh(t4_t6_te_filter, 'TE')"
   ]
  },
  {
   "cell_type": "markdown",
   "metadata": {},
   "source": [
    "# Calculate best model using GMM "
   ]
  },
  {
   "cell_type": "code",
   "execution_count": 43,
   "metadata": {
    "collapsed": true
   },
   "outputs": [],
   "source": [
    "import numpy as np\n",
    "import itertools\n",
    "\n",
    "from scipy import linalg\n",
    "import matplotlib.pyplot as plt\n",
    "import matplotlib as mpl\n",
    "\n",
    "from sklearn import mixture"
   ]
  },
  {
   "cell_type": "code",
   "execution_count": 53,
   "metadata": {},
   "outputs": [],
   "source": [
    "def bic_gmm(dataframe):\n",
    "\n",
    "    # Number of samples per component\n",
    "    n_samples = len(dataframe.iloc[:,1])\n",
    "    #n_samples = len(t4_t6_te['TE_x'])\n",
    "\n",
    "    # Generate random sample, two components\n",
    "    np.random.seed(0)\n",
    "    C = np.array([[0., -0.1], [1.7, .4]])\n",
    "    # X = np.r_[np.dot(np.random.randn(n_samples, 2), C),\n",
    "    #           .7 * np.random.randn(n_samples, 2) + np.array([-6, 3])]\n",
    "\n",
    "    X = dataframe.iloc[:,1:3].values\n",
    "    #[['TE_x','TE_y']].values\n",
    "    #X = t4_t6_te[['TE_x', 'TE_y']].values\n",
    "    print(X)\n",
    "\n",
    "    lowest_bic = np.infty\n",
    "    bic = []\n",
    "    n_components_range = range(1, 7)\n",
    "    cv_types = ['spherical', 'tied', 'diag', 'full']\n",
    "    for cv_type in cv_types:\n",
    "        for n_components in n_components_range:\n",
    "            # Fit a Gaussian mixture with EM\n",
    "            gmm = mixture.GaussianMixture(n_components=n_components,\n",
    "                                          covariance_type=cv_type)\n",
    "            gmm.fit(X)\n",
    "            bic.append(gmm.bic(X))\n",
    "            if bic[-1] < lowest_bic:\n",
    "                lowest_bic = bic[-1]\n",
    "                best_gmm = gmm\n",
    "\n",
    "    bic = np.array(bic)\n",
    "    color_iter = itertools.cycle(['navy', 'turquoise', 'cornflowerblue',\n",
    "                                  'darkorange'])\n",
    "    clf = best_gmm\n",
    "    print(clf)\n",
    "    bars = []\n",
    "\n",
    "    # Plot the BIC scores\n",
    "    plt.figure(figsize = (10,15))\n",
    "\n",
    "    spl = plt.subplot(2, 1, 1)\n",
    "    for i, (cv_type, color) in enumerate(zip(cv_types, color_iter)):\n",
    "        xpos = np.array(n_components_range) + .2 * (i - 2)\n",
    "        bars.append(plt.bar(xpos, bic[i * len(n_components_range):\n",
    "                                      (i + 1) * len(n_components_range)],\n",
    "                            width=.2, color=color))\n",
    "    plt.xticks(n_components_range)\n",
    "    plt.ylim([bic.min() * 1.01 - .01 * bic.max(), bic.max()])\n",
    "    plt.title('BIC score per model')\n",
    "    xpos = np.mod(bic.argmin(), len(n_components_range)) + .65 +\\\n",
    "        .2 * np.floor(bic.argmin() / len(n_components_range))\n",
    "    plt.text(xpos, bic.min() * 0.97 + .03 * bic.max(), '*', fontsize=14)\n",
    "    spl.set_xlabel('Number of components')\n",
    "    spl.legend([b[0] for b in bars], cv_types)\n",
    "\n",
    "    # Plot the winner\n",
    "    splot = plt.subplot(2, 1, 2)\n",
    "    Y_ = clf.predict(X)\n",
    "\n",
    "    for i, (mean, cov, color) in enumerate(zip(clf.means_, clf.covariances_,\n",
    "                                               color_iter)):\n",
    "        v, w = linalg.eigh(cov)\n",
    "        if not np.any(Y_ == i):\n",
    "            continue\n",
    "        plt.scatter(X[Y_ == i, 0], X[Y_ == i, 1], .8, color=color)\n",
    "\n",
    "        # Plot an ellipse to show the Gaussian component\n",
    "        angle = np.arctan2(w[0][1], w[0][0])\n",
    "        angle = 180. * angle / np.pi  # convert to degrees\n",
    "        v = 2. * np.sqrt(2.) * np.sqrt(v)\n",
    "        ell = mpl.patches.Ellipse(mean, v[0], v[1], 180. + angle, color=color)\n",
    "        ell.set_clip_box(splot.bbox)\n",
    "        ell.set_alpha(.5)\n",
    "        splot.add_artist(ell)\n",
    "    plt.xticks(())\n",
    "    plt.yticks(())\n",
    "    plt.title('Selected GMM: ' + clf.covariance_type +', '+ str(clf.n_components))\n",
    "    plt.subplots_adjust(hspace=.35, bottom=.02)\n",
    "    plt.show()"
   ]
  },
  {
   "cell_type": "code",
   "execution_count": 54,
   "metadata": {},
   "outputs": [
    {
     "name": "stdout",
     "output_type": "stream",
     "text": [
      "[[ 1.1167489   1.03800145]\n",
      " [ 1.92911242  2.02080525]\n",
      " [ 0.8136534   0.10776429]\n",
      " ..., \n",
      " [ 0.9096445   1.09132871]\n",
      " [ 1.08396683  1.42174838]\n",
      " [ 1.09718991  1.53229986]]\n",
      "GaussianMixture(covariance_type='full', init_params='kmeans', max_iter=100,\n",
      "        means_init=None, n_components=5, n_init=1, precisions_init=None,\n",
      "        random_state=None, reg_covar=1e-06, tol=0.001, verbose=0,\n",
      "        verbose_interval=10, warm_start=False, weights_init=None)\n"
     ]
    },
    {
     "data": {
      "image/png": "[encoded data removed]",
      "text/plain": [
       "<matplotlib.figure.Figure at 0x1112f7668>"
      ]
     },
     "metadata": {},
     "output_type": "display_data"
    }
   ],
   "source": [
    "bic_gmm(t4_t6_te_filter)"
   ]
  },
  {
   "cell_type": "code",
   "execution_count": null,
   "metadata": {
    "collapsed": true
   },
   "outputs": [],
   "source": []
  }
 ],
 "metadata": {
  "kernelspec": {
   "display_name": "Python 3",
   "language": "python",
   "name": "python3"
  },
  "language_info": {
   "codemirror_mode": {
    "name": "ipython",
    "version": 3
   },
   "file_extension": ".py",
   "mimetype": "text/x-python",
   "name": "python",
   "nbconvert_exporter": "python",
   "pygments_lexer": "ipython3",
   "version": "3.6.1"
  }
 },
 "nbformat": 4,
 "nbformat_minor": 2
}
